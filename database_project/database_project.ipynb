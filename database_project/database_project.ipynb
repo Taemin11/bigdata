{
  "nbformat": 4,
  "nbformat_minor": 0,
  "metadata": {
    "colab": {
      "name": "database_project.ipynb",
      "version": "0.3.2",
      "provenance": [],
      "collapsed_sections": [],
      "include_colab_link": true
    },
    "kernelspec": {
      "name": "python3",
      "display_name": "Python 3"
    },
    "accelerator": "GPU"
  },
  "cells": [
    {
      "cell_type": "markdown",
      "metadata": {
        "id": "view-in-github",
        "colab_type": "text"
      },
      "source": [
        "<a href=\"https://colab.research.google.com/github/Taemin11/bigdata/blob/master/database_project.ipynb\" target=\"_parent\"><img src=\"https://colab.research.google.com/assets/colab-badge.svg\" alt=\"Open In Colab\"/></a>"
      ]
    },
    {
      "cell_type": "code",
      "metadata": {
        "id": "GjRPCwkswXU6",
        "colab_type": "code",
        "outputId": "3005588e-d452-4501-b4f9-a3ad5948d872",
        "colab": {
          "base_uri": "https://localhost:8080/",
          "height": 882
        }
      },
      "source": [
        "##구글드라이브 권한 획득\n",
        "!apt install -y -qq --fix-broken python-pycurl python-apt 2> /dev/null\n",
        "!apt install -y -qq software-properties-common module-init-tools 2> /dev/null\n",
        "!add-apt-repository -y ppa:alessandro-strada/ppa 2>&1 > /dev/null\n",
        "!apt update -qq 2>&1 > /dev/null\n",
        "!apt install -y -qq google-drive-ocamlfuse fuse 2> /dev/null\n",
        "\n",
        "from google.colab import auth\n",
        "from oauth2client.client import GoogleCredentials\n",
        "\n",
        "auth.authenticate_user()\n",
        "creds = GoogleCredentials.get_application_default()\n",
        "\n",
        "!google-drive-ocamlfuse -headless -id={creds.client_id} -secret={creds.client_secret} < /dev/null 2>&1 | grep URL\n",
        "\n",
        "from getpass import getpass\n",
        "\n",
        "vcode = getpass()\n",
        "\n",
        "!echo {vcode} | google-drive-ocamlfuse -headless -id={creds.client_id} -secret={creds.client_secret}\n",
        "\n"
      ],
      "execution_count": 0,
      "outputs": [
        {
          "output_type": "stream",
          "text": [
            "The following package was automatically installed and is no longer required:\n",
            "  libnvidia-common-410\n",
            "Use 'apt autoremove' to remove it.\n",
            "Suggested packages:\n",
            "  python-apt-dbg python-apt-doc libcurl4-gnutls-dev python-pycurl-dbg\n",
            "  python-pycurl-doc\n",
            "The following NEW packages will be installed:\n",
            "  python-apt python-pycurl\n",
            "0 upgraded, 2 newly installed, 0 to remove and 8 not upgraded.\n",
            "Need to get 193 kB of archives.\n",
            "After this operation, 861 kB of additional disk space will be used.\n",
            "Selecting previously unselected package python-apt.\n",
            "(Reading database ... 130912 files and directories currently installed.)\n",
            "Preparing to unpack .../python-apt_1.6.4_amd64.deb ...\n",
            "Unpacking python-apt (1.6.4) ...\n",
            "Selecting previously unselected package python-pycurl.\n",
            "Preparing to unpack .../python-pycurl_7.43.0.1-0.2_amd64.deb ...\n",
            "Unpacking python-pycurl (7.43.0.1-0.2) ...\n",
            "Setting up python-pycurl (7.43.0.1-0.2) ...\n",
            "Setting up python-apt (1.6.4) ...\n",
            "software-properties-common is already the newest version (0.96.24.32.9).\n",
            "module-init-tools is already the newest version (24-1ubuntu3.2).\n",
            "The following package was automatically installed and is no longer required:\n",
            "  libnvidia-common-410\n",
            "Use 'apt autoremove' to remove it.\n",
            "0 upgraded, 0 newly installed, 0 to remove and 8 not upgraded.\n",
            "\n",
            "WARNING: apt does not have a stable CLI interface. Use with caution in scripts.\n",
            "\n",
            "fuse is already the newest version (2.9.7-1ubuntu1).\n",
            "The following package was automatically installed and is no longer required:\n",
            "  libnvidia-common-410\n",
            "Use 'apt autoremove' to remove it.\n",
            "The following NEW packages will be installed:\n",
            "  google-drive-ocamlfuse\n",
            "0 upgraded, 1 newly installed, 0 to remove and 44 not upgraded.\n",
            "Need to get 1,246 kB of archives.\n",
            "After this operation, 6,491 kB of additional disk space will be used.\n",
            "Selecting previously unselected package google-drive-ocamlfuse.\n",
            "(Reading database ... 130949 files and directories currently installed.)\n",
            "Preparing to unpack .../google-drive-ocamlfuse_0.7.3-0ubuntu3~ubuntu18.04.1_amd64.deb ...\n",
            "Unpacking google-drive-ocamlfuse (0.7.3-0ubuntu3~ubuntu18.04.1) ...\n",
            "Setting up google-drive-ocamlfuse (0.7.3-0ubuntu3~ubuntu18.04.1) ...\n",
            "Processing triggers for man-db (2.8.3-2ubuntu0.1) ...\n",
            "Please, open the following URL in a web browser: https://accounts.google.com/o/oauth2/auth?client_id=32555940559.apps.googleusercontent.com&redirect_uri=urn%3Aietf%3Awg%3Aoauth%3A2.0%3Aoob&scope=https%3A%2F%2Fwww.googleapis.com%2Fauth%2Fdrive&response_type=code&access_type=offline&approval_prompt=force\n",
            "··········\n",
            "Please, open the following URL in a web browser: https://accounts.google.com/o/oauth2/auth?client_id=32555940559.apps.googleusercontent.com&redirect_uri=urn%3Aietf%3Awg%3Aoauth%3A2.0%3Aoob&scope=https%3A%2F%2Fwww.googleapis.com%2Fauth%2Fdrive&response_type=code&access_type=offline&approval_prompt=force\n",
            "Please enter the verification code: Access token retrieved correctly.\n"
          ],
          "name": "stdout"
        }
      ]
    },
    {
      "cell_type": "code",
      "metadata": {
        "id": "VkqhL7yWrq5b",
        "colab_type": "code",
        "colab": {}
      },
      "source": [
        "#drive에 경로 생성\n",
        "!mkdir -p google_drive\n",
        "!google-drive-ocamlfuse -o nonempty google_drive"
      ],
      "execution_count": 0,
      "outputs": []
    },
    {
      "cell_type": "code",
      "metadata": {
        "id": "k0EdxSP4rZwF",
        "colab_type": "code",
        "colab": {}
      },
      "source": [
        "#셀레니옴 설치\n",
        "# install chromium, its driver, and selenium\n",
        "!apt install chromium-chromedriver\n",
        "!cp /usr/lib/chromium-browser/chromedriver /usr/bin\n",
        "!pip install selenium\n",
        "# set options to be headless, ..\n",
        "from selenium import webdriver\n",
        "options = webdriver.ChromeOptions()\n",
        "options.add_argument('--headless')\n",
        "options.add_argument('--no-sandbox')\n",
        "options.add_argument('--disable-dev-shm-usage')\n",
        "# open it, go to a website, and get results\n",
        "wd = webdriver.Chrome('chromedriver',options=options)\n",
        "wd.get(\"https://www.website.com\")\n",
        "print(wd.page_source)  # results"
      ],
      "execution_count": 0,
      "outputs": []
    },
    {
      "cell_type": "code",
      "metadata": {
        "id": "WW6gy6lxsS4p",
        "colab_type": "code",
        "outputId": "76949f82-3b1d-49a5-c712-1295448a20a3",
        "colab": {
          "base_uri": "https://localhost:8080/",
          "height": 380
        }
      },
      "source": [
        "from bs4 import BeautifulSoup\n",
        "from selenium import webdriver\n",
        "import pandas as pd\n",
        "import numpy as np\n",
        "import requests\n",
        "import itertools\n",
        "import hashlib \n",
        "\n",
        "options = webdriver.ChromeOptions()\n",
        "options.add_argument('--headless')\n",
        "options.add_argument('--no-sandbox')\n",
        "options.add_argument('--disable-dev-shm-usage')\n",
        "\n",
        "\n",
        "\n",
        "driver = webdriver.Chrome('chromedriver',options=options)\n",
        "\n",
        "cols = \"rank\", \"type\", \"gameName\", \"companyName\", \"imgURL\", \"date\", \"appID\", \"market\", \"companyId\"\n",
        "df = pd.DataFrame(columns = cols)\n",
        "nn = 0\n",
        "driver.get('http://www.gevolution.co.kr/rank/history.asp')\n",
        "driver.find_element_by_xpath('//*[@id=\"btn_loginLayer\"]/a').click()\n",
        "elem_login = driver.find_element_by_id(\"userLoginID\")\n",
        "elem_login.send_keys('ht4380')\n",
        "elem_login = driver.find_element_by_id(\"userPassWd\")\n",
        "elem_login.send_keys('14elqlphp')\n",
        "driver.find_element_by_xpath('//*[@id=\"loginSec\"]/div[1]/fieldset/div[3]/button').click()\n",
        "for uu in range(1,3):\n",
        "  kkk = 19  \n",
        "  driver.find_element_by_xpath('//*[@id=\"txtStore\"]/option['+str(uu)+']').click()\n",
        "  print(\"go\")\n",
        "  if uu == 1:\n",
        "    market = '구글플레이'\n",
        "  elif uu == 2:\n",
        "    market = '앱스토어'\n",
        "  elif uu == 3:\n",
        "    market = '원스토어'\n",
        "  for gg in range(1,8):\n",
        "    driver.find_element_by_xpath('//*[@id=\"schDate\"]').click()\n",
        "    driver.find_element_by_xpath('//*[@id=\"ui-datepicker-div\"]/div/div/select[2]/option[5]').click()\n",
        "    driver.find_element_by_xpath('//*[@id=\"ui-datepicker-div\"]/table/tbody/tr[4]/td['+str(gg)+']/a').click()\n",
        "    source = driver.find_element_by_xpath('//*[@id=\"imgload\"]/table/tbody')\n",
        "    ###이미지 크롤링\n",
        "    req = driver.page_source\n",
        "    soup = BeautifulSoup(req, \"html.parser\")\n",
        "    #print(soup)\n",
        "    aaa = []\n",
        "    #a = 0\n",
        "    bbb = []\n",
        "    #b = 0\n",
        "    ccc = []\n",
        "    #c = 0\n",
        "    i = 0\n",
        "    for img in soup.find_all(\"img\"):\n",
        "      imgsrc = img.get('original')\n",
        "      #print(img.get('original'))\n",
        "      if imgsrc is None:\n",
        "        print(\"none\")\n",
        "      else: \n",
        "        if i%3 == 0:\n",
        "          aaa.append(imgsrc)\n",
        "        elif i%3 == 1:\n",
        "          bbb.append(imgsrc)\n",
        "        elif i%3 == 2:\n",
        "          ccc.append(imgsrc)\n",
        "        i+=1\n",
        "\n",
        "    ###텍스트 크롤링 \n",
        "    sss = source.text\n",
        "    ttt = []\n",
        "    ttt.append(sss.split(\"\\n\")) \n",
        "    for i in range(0, 700):\n",
        "      if \"비트 MP3 for 유튜브\" in ttt[0][i]:\n",
        "        ttt[0].insert(i+1,\"youtube\")      \n",
        "    aa = [[0]*11 for m in range(100)]\n",
        "    bb = [[0]*11 for m in range(100)]\n",
        "    cc = [[0]*11 for m in range(100)]\n",
        "    for j in range(0,100):\n",
        "      #무료순위\n",
        "      aa[j][0] = ttt[0][j*7]\n",
        "      aa[j][1] = 0\n",
        "      aa[j][2] = ttt[0][j*7 + 1]\n",
        "      aa[j][3] = ttt[0][j*7 + 2]    \n",
        "      aa[j][4] = aaa[j]\n",
        "      aa[j][5] = \"2019-05-\" + str(kkk)\n",
        "      aa[j][6] = (hash(aaa[j][59:67]) % 10**8)\n",
        "      aa[j][7] = market\n",
        "      aa[j][8] = (hash(ttt[0][j*7 + 2]) % 10**8)\n",
        "      #유료순위\n",
        "      bb[j][0] = ttt[0][j*7]\n",
        "      bb[j][1] = 1\n",
        "      bb[j][2] = ttt[0][j*7 + 3]\n",
        "      bb[j][3] = ttt[0][j*7 + 4]\n",
        "      bb[j][4] = bbb[j]\n",
        "      bb[j][5] = \"2019-05-\" + str(kkk)\n",
        "      bb[j][6] = (hash(bbb[j][59:67]) % 10**8)\n",
        "      bb[j][7] = market\n",
        "      bb[j][8] = (hash(ttt[0][j*7 + 4]) % 10**8)\n",
        "      #매출순위\n",
        "      cc[j][0] = ttt[0][j*7]\n",
        "      cc[j][1] = 2\n",
        "      cc[j][2] = ttt[0][j*7 + 5]\n",
        "      cc[j][3] = ttt[0][j*7 + 6]\n",
        "      print(ttt[0][j*7 + 1])\n",
        "      print(ttt[0][j*7 + 2])\n",
        "      print(ttt[0][j*7 + 3])\n",
        "      print(ttt[0][j*7 + 4])\n",
        "      print(ttt[0][j*7 + 5])\n",
        "      print(ttt[0][j*7 + 6])\n",
        "      cc[j][4] = ccc[j]\n",
        "      cc[j][5] = \"2019-05-\" + str(kkk)\n",
        "      cc[j][6] = (hash(ccc[j][59:67]) % 10**8)\n",
        "      cc[j][7] = market\n",
        "      cc[j][8] = (hash(ttt[0][j*7 + 6]) % 10**8)\n",
        "    print(\"kkk : \",  kkk)\n",
        "    kkk += 1\n",
        "\n",
        "    for n in range(0,100):\n",
        "      df.loc[nn] = aa[n]\n",
        "      nn +=1\n",
        "    for n in range(0,100):\n",
        "      df.loc[nn] = bb[n]\n",
        "      nn +=1    \n",
        "    for n in range(0,100):\n",
        "      df.loc[nn] = cc[n]\n",
        "      nn +=1  \n",
        "\n",
        "!mkdir -p google_drive/test_colab\n",
        "df.to_csv(\"google_drive/test_colab/Rawdata_gevolutiontest.csv\")\n",
        "!ls -Fcal google_drive/test_colab\n",
        "\n",
        "#sss = sss.split()\n"
      ],
      "execution_count": 0,
      "outputs": [
        {
          "output_type": "error",
          "ename": "ModuleNotFoundError",
          "evalue": "ignored",
          "traceback": [
            "\u001b[0;31m---------------------------------------------------------------------------\u001b[0m",
            "\u001b[0;31mModuleNotFoundError\u001b[0m                       Traceback (most recent call last)",
            "\u001b[0;32m<ipython-input-1-60356a9ec97d>\u001b[0m in \u001b[0;36m<module>\u001b[0;34m()\u001b[0m\n\u001b[1;32m      1\u001b[0m \u001b[0;32mfrom\u001b[0m \u001b[0mbs4\u001b[0m \u001b[0;32mimport\u001b[0m \u001b[0mBeautifulSoup\u001b[0m\u001b[0;34m\u001b[0m\u001b[0;34m\u001b[0m\u001b[0m\n\u001b[0;32m----> 2\u001b[0;31m \u001b[0;32mfrom\u001b[0m \u001b[0mselenium\u001b[0m \u001b[0;32mimport\u001b[0m \u001b[0mwebdriver\u001b[0m\u001b[0;34m\u001b[0m\u001b[0;34m\u001b[0m\u001b[0m\n\u001b[0m\u001b[1;32m      3\u001b[0m \u001b[0;32mimport\u001b[0m \u001b[0mpandas\u001b[0m \u001b[0;32mas\u001b[0m \u001b[0mpd\u001b[0m\u001b[0;34m\u001b[0m\u001b[0;34m\u001b[0m\u001b[0m\n\u001b[1;32m      4\u001b[0m \u001b[0;32mimport\u001b[0m \u001b[0mnumpy\u001b[0m \u001b[0;32mas\u001b[0m \u001b[0mnp\u001b[0m\u001b[0;34m\u001b[0m\u001b[0;34m\u001b[0m\u001b[0m\n\u001b[1;32m      5\u001b[0m \u001b[0;32mimport\u001b[0m \u001b[0mrequests\u001b[0m\u001b[0;34m\u001b[0m\u001b[0;34m\u001b[0m\u001b[0m\n",
            "\u001b[0;31mModuleNotFoundError\u001b[0m: No module named 'selenium'",
            "",
            "\u001b[0;31m---------------------------------------------------------------------------\u001b[0;32m\nNOTE: If your import is failing due to a missing package, you can\nmanually install dependencies using either !pip or !apt.\n\nTo view examples of installing some common dependencies, click the\n\"Open Examples\" button below.\n\u001b[0;31m---------------------------------------------------------------------------\u001b[0m\n"
          ]
        }
      ]
    },
    {
      "cell_type": "markdown",
      "metadata": {
        "id": "FI-8OnRxSxsc",
        "colab_type": "text"
      },
      "source": [
        ""
      ]
    },
    {
      "cell_type": "code",
      "metadata": {
        "id": "DM5rjBZ53ZBY",
        "colab_type": "code",
        "colab": {}
      },
      "source": [
        "#xml파싱\n",
        "import pandas as pd\n",
        "from urllib.request import urlopen\n",
        "import xml.etree.ElementTree as et\n",
        "\n",
        "!mkdir -p google_drive\n",
        "!google-drive-ocamlfuse -o nonempty google_drive\n",
        "\n",
        "for i in range(1, 4):\n",
        "  xml = urlopen('http://api.gevolution.co.kr/rank/xml/?aCode=MNOP803974&market=a&appType=game&rankType='+str(i)+'&rank=100')\n",
        "  xtree = et.parse(xml)\n",
        "  xroot = xtree.getroot()\n",
        "\n",
        "  aid = \"\"\n",
        "  ranking = \"\"\n",
        "  lastWeek = \"\"\n",
        "  gameName = \"\"\n",
        "  publisher = \"\"\n",
        "  iconUrl = \"\"\n",
        "\n",
        "  for item in xroot.iter(\"item\"):\n",
        "    aid += item.findtext(\"aid\") + \"^\"\n",
        "    ranking += item.findtext(\"ranking\") + \"^\"\n",
        "    lastWeek += item.findtext(\"lastWeek\") + \"^\"\n",
        "    gameName += item.findtext(\"gameName\") + \"^\"\n",
        "    publisher += item.findtext(\"publisher\") + \"^\"\n",
        "    iconUrl += item.findtext(\"iconUrl\") + \"^\"\n",
        "\n",
        "\n",
        "  aid = aid.split(\"^\")\n",
        "  ranking = ranking.split(\"^\")\n",
        "  lastWeek = lastWeek.split(\"^\")\n",
        "  gameName = gameName.split(\"^\")\n",
        "  publisher = publisher.split(\"^\")\n",
        "  iconUrl = iconUrl.split(\"^\")\n",
        "\n",
        "\n",
        "  data = {'aid' : aid,\n",
        "         'ranking' : ranking,\n",
        "         'lastWeek' : lastWeek,\n",
        "         'gameName' : gameName,\n",
        "         'publisher' : publisher,\n",
        "         'iconUrl' : iconUrl}\n",
        "\n",
        "\n",
        "\n",
        "!mkdir -p google_drive/test_colab\n",
        "df = pd.DataFrame(data)\n",
        "df.to_csv(\"google_drive/test_colab/asssddddsssdddd.csv\")\n",
        "!ls -Fcal google_drive/test_colab"
      ],
      "execution_count": 0,
      "outputs": []
    },
    {
      "cell_type": "code",
      "metadata": {
        "id": "6wFJJgbrrOfR",
        "colab_type": "code",
        "outputId": "f5816b84-6a6e-4bf0-a3cc-9ca5fb0c8ffa",
        "colab": {
          "base_uri": "https://localhost:8080/",
          "height": 35
        }
      },
      "source": [
        "\n",
        "qqq = 'http://upload.gevolution.co.kr/appicon/s0610000/gevolution_00609871_icon_50.png'\n",
        "qqq[59:67]"
      ],
      "execution_count": 0,
      "outputs": [
        {
          "output_type": "execute_result",
          "data": {
            "text/plain": [
              "'00609871'"
            ]
          },
          "metadata": {
            "tags": []
          },
          "execution_count": 173
        }
      ]
    }
  ]
}

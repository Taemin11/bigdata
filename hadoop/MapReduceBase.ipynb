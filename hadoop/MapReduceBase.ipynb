{
  "nbformat": 4,
  "nbformat_minor": 0,
  "metadata": {
    "colab": {
      "name": "MapReduceBase.ipynb",
      "version": "0.3.2",
      "provenance": [],
      "include_colab_link": true
    },
    "kernelspec": {
      "name": "python3",
      "display_name": "Python 3"
    }
  },
  "cells": [
    {
      "cell_type": "markdown",
      "metadata": {
        "id": "view-in-github",
        "colab_type": "text"
      },
      "source": [
        "<a href=\"https://colab.research.google.com/github/Taemin11/bigdata/blob/master/MapReduceBase.ipynb\" target=\"_parent\"><img src=\"https://colab.research.google.com/assets/colab-badge.svg\" alt=\"Open In Colab\"/></a>"
      ]
    },
    {
      "cell_type": "code",
      "metadata": {
        "id": "7s48j_pLrMVm",
        "colab_type": "code",
        "outputId": "439503c5-038e-45eb-e8e9-56e2f60f7c46",
        "colab": {
          "base_uri": "https://localhost:8080/",
          "height": 193
        }
      },
      "source": [
        "#스팸메일 체크\n",
        "import nltk  \n",
        "from nltk.tokenize import word_tokenize \n",
        "from nltk.tokenize import WordPunctTokenizer\n",
        "\n",
        "#단어 set\n",
        "Count = [[0]*2]*10000\n",
        "\n",
        "#filter\n",
        "WordFilter = ['as', 'do']\n",
        "hashcode = 10000\n",
        "#문장입력\n",
        "documentSet = \"do as i say, not as i do\"\n",
        "\n",
        "###wordCount###\n",
        "def wordCount(documentSet):\n",
        "  T = WordPunctTokenizer().tokenize(documentSet);\n",
        "  wordco = 0;\n",
        "  for token in T:\n",
        "    #hash 중복검사\n",
        "    if Count[hash(token) % hashcode][0] == token or Count[hash(token) % hashcode][0] == 0:\n",
        "      k = Count[hash(token) % hashcode][1] + 1;\n",
        "      Count[hash(token) % hashcode] = ([token, k]);\n",
        "      wordco += 1;\n",
        "    else :\n",
        "      print(\"redundant : \" + token);  \n",
        "  for i in Count:\n",
        "    if i[1] > 0:\n",
        "      print(i)\n",
        "  return wordco;\n",
        "###wordCount###\n",
        "\n",
        "###checkSpam###\n",
        "def checkSpam(wordco):\n",
        "  spamco = 0;\n",
        "  spamrate = 0.00;\n",
        "  for co in Count:\n",
        "    for fi in WordFilter:\n",
        "      if co[0] == fi:\n",
        "        spamco += co[1];\n",
        "        print(co[0])\n",
        "  spamrate = spamco/wordco*100;\n",
        "  print(\"spamrate : \" + str(spamrate) + \"%\");\n",
        "  return spamrate\n",
        "##checkSpam###\n",
        "\n",
        "if checkSpam(wordCount(documentSet)) > 20:\n",
        "  print(\"It is spam!\")"
      ],
      "execution_count": 0,
      "outputs": [
        {
          "output_type": "stream",
          "text": [
            "['say', 1]\n",
            "['as', 2]\n",
            "['not', 1]\n",
            "[',', 1]\n",
            "['i', 2]\n",
            "['do', 2]\n",
            "as\n",
            "do\n",
            "spamrate : 44.44444444444444%\n",
            "It is spam!\n"
          ],
          "name": "stdout"
        }
      ]
    }
  ]
}
